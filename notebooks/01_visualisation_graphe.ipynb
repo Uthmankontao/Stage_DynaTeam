{
 "cells": [
  {
   "cell_type": "code",
   "execution_count": 3,
   "id": "5c88908f",
   "metadata": {},
   "outputs": [
    {
     "ename": "ImportError",
     "evalue": "cannot import name 'build_graph' from 'scripts' (unknown location)",
     "output_type": "error",
     "traceback": [
      "\u001b[31m---------------------------------------------------------------------------\u001b[39m",
      "\u001b[31mImportError\u001b[39m                               Traceback (most recent call last)",
      "\u001b[36mCell\u001b[39m\u001b[36m \u001b[39m\u001b[32mIn[3]\u001b[39m\u001b[32m, line 1\u001b[39m\n\u001b[32m----> \u001b[39m\u001b[32m1\u001b[39m \u001b[38;5;28;01mfrom\u001b[39;00m\u001b[38;5;250m \u001b[39m\u001b[34;01mscripts\u001b[39;00m\u001b[38;5;250m \u001b[39m\u001b[38;5;28;01mimport\u001b[39;00m build_graph\n",
      "\u001b[31mImportError\u001b[39m: cannot import name 'build_graph' from 'scripts' (unknown location)"
     ]
    }
   ],
   "source": [
    "from scripts import build_graph"
   ]
  },
  {
   "cell_type": "markdown",
   "id": "b6240402",
   "metadata": {},
   "source": [
    "### Match de racing avec la pédagogie autoorganisée"
   ]
  },
  {
   "cell_type": "code",
   "execution_count": null,
   "id": "6fef73b3",
   "metadata": {},
   "outputs": [],
   "source": []
  }
 ],
 "metadata": {
  "kernelspec": {
   "display_name": "Python 3",
   "language": "python",
   "name": "python3"
  },
  "language_info": {
   "codemirror_mode": {
    "name": "ipython",
    "version": 3
   },
   "file_extension": ".py",
   "mimetype": "text/x-python",
   "name": "python",
   "nbconvert_exporter": "python",
   "pygments_lexer": "ipython3",
   "version": "3.12.9"
  }
 },
 "nbformat": 4,
 "nbformat_minor": 5
}
