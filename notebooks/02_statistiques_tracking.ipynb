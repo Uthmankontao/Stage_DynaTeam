{
 "cells": [
  {
   "cell_type": "code",
   "execution_count": 11,
   "id": "5c88908f",
   "metadata": {},
   "outputs": [],
   "source": [
    "import pandas as pd\n",
    "import numpy as np\n",
    "import matplotlib.pyplot as plt\n",
    "df_tracking = pd.read_csv(\"C:/Users/Ousmane Kontao/Desktop/Projet_Data/data_brute/tracking GPS - pedagogie emergente.csv\", low_memory=False) \n",
    "df_tracking.drop(columns=[\"Unnamed: 0\", \"Position\"], inplace=True)\n",
    "df_seq = pd.read_csv(\"C:/Users/Ousmane Kontao/Desktop/Projet_Data/data_brute/event sequencage - pedagogie emergente.csv\", sep=';')\n",
    "df_infos = pd.read_csv(\"C:/Users/Ousmane Kontao/Desktop/Projet_Data/data_brute/informations - pedagogie emergente.csv\", sep=';')\n"
   ]
  },
  {
   "cell_type": "code",
   "execution_count": 13,
   "id": "1a8589f5",
   "metadata": {},
   "outputs": [
    {
     "data": {
      "text/html": [
       "<div>\n",
       "<style scoped>\n",
       "    .dataframe tbody tr th:only-of-type {\n",
       "        vertical-align: middle;\n",
       "    }\n",
       "\n",
       "    .dataframe tbody tr th {\n",
       "        vertical-align: top;\n",
       "    }\n",
       "\n",
       "    .dataframe thead th {\n",
       "        text-align: right;\n",
       "    }\n",
       "</style>\n",
       "<table border=\"1\" class=\"dataframe\">\n",
       "  <thead>\n",
       "    <tr style=\"text-align: right;\">\n",
       "      <th></th>\n",
       "      <th>Possession</th>\n",
       "      <th>GPS</th>\n",
       "      <th>Time</th>\n",
       "      <th>X</th>\n",
       "      <th>Y</th>\n",
       "      <th>Team</th>\n",
       "      <th>Player</th>\n",
       "      <th>Frame</th>\n",
       "      <th>ID</th>\n",
       "    </tr>\n",
       "  </thead>\n",
       "  <tbody>\n",
       "    <tr>\n",
       "      <th>0</th>\n",
       "      <td>1</td>\n",
       "      <td>12</td>\n",
       "      <td>0.24</td>\n",
       "      <td>-4.859677</td>\n",
       "      <td>-10.750143</td>\n",
       "      <td>Att</td>\n",
       "      <td>3.0</td>\n",
       "      <td>2.0</td>\n",
       "      <td>3</td>\n",
       "    </tr>\n",
       "    <tr>\n",
       "      <th>1</th>\n",
       "      <td>1</td>\n",
       "      <td>12</td>\n",
       "      <td>0.26</td>\n",
       "      <td>-4.820556</td>\n",
       "      <td>-10.794123</td>\n",
       "      <td>Att</td>\n",
       "      <td>3.0</td>\n",
       "      <td>2.0</td>\n",
       "      <td>3</td>\n",
       "    </tr>\n",
       "    <tr>\n",
       "      <th>2</th>\n",
       "      <td>1</td>\n",
       "      <td>12</td>\n",
       "      <td>0.28</td>\n",
       "      <td>-4.781435</td>\n",
       "      <td>-10.838104</td>\n",
       "      <td>Att</td>\n",
       "      <td>3.0</td>\n",
       "      <td>2.0</td>\n",
       "      <td>3</td>\n",
       "    </tr>\n",
       "    <tr>\n",
       "      <th>3</th>\n",
       "      <td>1</td>\n",
       "      <td>12</td>\n",
       "      <td>0.30</td>\n",
       "      <td>-4.742313</td>\n",
       "      <td>-10.882084</td>\n",
       "      <td>Att</td>\n",
       "      <td>3.0</td>\n",
       "      <td>3.0</td>\n",
       "      <td>3</td>\n",
       "    </tr>\n",
       "    <tr>\n",
       "      <th>4</th>\n",
       "      <td>1</td>\n",
       "      <td>12</td>\n",
       "      <td>0.32</td>\n",
       "      <td>-4.689796</td>\n",
       "      <td>-10.925258</td>\n",
       "      <td>Att</td>\n",
       "      <td>3.0</td>\n",
       "      <td>3.0</td>\n",
       "      <td>3</td>\n",
       "    </tr>\n",
       "  </tbody>\n",
       "</table>\n",
       "</div>"
      ],
      "text/plain": [
       "   Possession GPS  Time         X          Y Team  Player  Frame ID\n",
       "0           1  12  0.24 -4.859677 -10.750143  Att     3.0    2.0  3\n",
       "1           1  12  0.26 -4.820556 -10.794123  Att     3.0    2.0  3\n",
       "2           1  12  0.28 -4.781435 -10.838104  Att     3.0    2.0  3\n",
       "3           1  12  0.30 -4.742313 -10.882084  Att     3.0    3.0  3\n",
       "4           1  12  0.32 -4.689796 -10.925258  Att     3.0    3.0  3"
      ]
     },
     "execution_count": 13,
     "metadata": {},
     "output_type": "execute_result"
    }
   ],
   "source": [
    "df_tracking.head()"
   ]
  },
  {
   "cell_type": "code",
   "execution_count": 17,
   "id": "40970b27",
   "metadata": {},
   "outputs": [
    {
     "name": "stdout",
     "output_type": "stream",
     "text": [
      "Nombre moyen de joueurs par frame : 13.0\n"
     ]
    }
   ],
   "source": [
    "df_tracking_joueurs = df_tracking[df_tracking[\"GPS\"] != \"Ball\"]\n",
    "joueurs_par_frame = df_tracking_joueurs.groupby(\"Frame\")[\"Player\"].nunique()\n",
    "joueurs_moyens_par_frame = joueurs_par_frame.mean()\n",
    "print(\"Nombre moyen de joueurs par frame :\", joueurs_moyens_par_frame)"
   ]
  }
 ],
 "metadata": {
  "kernelspec": {
   "display_name": ".venv",
   "language": "python",
   "name": "python3"
  },
  "language_info": {
   "codemirror_mode": {
    "name": "ipython",
    "version": 3
   },
   "file_extension": ".py",
   "mimetype": "text/x-python",
   "name": "python",
   "nbconvert_exporter": "python",
   "pygments_lexer": "ipython3",
   "version": "3.12.9"
  }
 },
 "nbformat": 4,
 "nbformat_minor": 5
}
